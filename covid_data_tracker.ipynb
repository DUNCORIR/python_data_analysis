# COVID-19 Global Data Tracker Project

# 📦 Import Libraries
import pandas as pd
import matplotlib.pyplot as plt
import seaborn as sns
import plotly.express as px

# 📥 Load Dataset (use your own filename: datasets.csv or COVID-19.csv)
df = pd.read_csv('datasets.csv')  # or 'COVID-19.csv'

# 📊 Data Exploration
print("\nData Columns:\n", df.columns)
print("\nData Preview:\n", df.head())
print("\nMissing Values Summary:\n", df.isnull().sum())

# 🧹 Data Cleaning
countries_of_interest = ['Kenya', 'USA', 'India']
df_filtered = df[df['location'].isin(countries_of_interest)]
df_filtered = df_filtered.dropna(subset=['date', 'total_cases', 'total_deaths', 'total_vaccinations'])
df_filtered['date'] = pd.to_datetime(df_filtered['date'])
df_filtered['total_cases'] = df_filtered['total_cases'].interpolate()
df_filtered['total_deaths'] = df_filtered['total_deaths'].interpolate()
df_cleaned = df_filtered.copy()

# 📈 Total Cases Over Time
plt.figure(figsize=(10, 6))
for country in countries_of_interest:
    country_data = df_cleaned[df_cleaned['location'] == country]
    plt.plot(country_data['date'], country_data['total_cases'], label=country)
plt.title('Total COVID-19 Cases Over Time')
plt.xlabel('Date')
plt.ylabel('Total Cases')
plt.legend()
plt.grid(True)
plt.show()

# 📈 Total Deaths Over Time
plt.figure(figsize=(10, 6))
for country in countries_of_interest:
    country_data = df_cleaned[df_cleaned['location'] == country]
    plt.plot(country_data['date'], country_data['total_deaths'], label=country)
plt.title('Total COVID-19 Deaths Over Time')
plt.xlabel('Date')
plt.ylabel('Total Deaths')
plt.legend()
plt.grid(True)
plt.show()

# 📉 Calculate Death Rate
df_cleaned['death_rate'] = df_cleaned['total_deaths'] / df_cleaned['total_cases']
print("\nDeath Rate Sample:\n", df_cleaned[['location', 'date', 'death_rate']].head())

# 💉 Vaccination Progress
plt.figure(figsize=(10, 6))
for country in countries_of_interest:
    country_data = df_cleaned[df_cleaned['location'] == country]
    plt.plot(country_data['date'], country_data['total_vaccinations'], label=country)
plt.title('Cumulative COVID-19 Vaccinations Over Time')
plt.xlabel('Date')
plt.ylabel('Total Vaccinations')
plt.legend()
plt.grid(True)
plt.show()

# 💉 Vaccination Rate (% of population)
if 'population' in df_cleaned.columns:
    df_cleaned['vaccination_rate'] = df_cleaned['total_vaccinations'] / df_cleaned['population'] * 100
    print("\nVaccination Rate Sample:\n", df_cleaned[['location', 'date', 'vaccination_rate']].head())

# 🌍 Optional Choropleth Map (requires iso_code and latest total_cases)
latest_date = df_cleaned['date'].max()
latest_data = df_cleaned[df_cleaned['date'] == latest_date][['iso_code', 'location', 'total_cases']]
fig = px.choropleth(latest_data,
                    locations="iso_code",
                    color="total_cases",
                    hover_name="location",
                    color_continuous_scale="Viridis",
                    title=f"COVID-19 Total Cases by Country on {latest_date.date()}")
fig.show()

# 📝 Sample Insights (use Markdown in notebook for these)
# - India shows the highest total cases among the selected countries.
# - Kenya's vaccination rate increased steadily but remained lower compared to USA.
# - Death rates fluctuated over time and correlated with major waves.
# - The USA had the earliest and largest spike in total deaths.